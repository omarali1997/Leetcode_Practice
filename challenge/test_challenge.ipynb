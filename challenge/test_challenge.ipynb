{
 "cells": [
  {
   "cell_type": "markdown",
   "metadata": {},
   "source": [
    "## Leet code\n",
    "\n",
    "For today you will be solving some selected challenges on leetcode, please create an account if you don't have then\n",
    "Follow the links below:\n",
    "read them carefully and solve them then copy-paste your solution below in Code Block\n"
   ]
  },
  {
   "cell_type": "markdown",
   "metadata": {},
   "source": [
    "### **Question-01**:\n",
    "-----\n"
   ]
  },
  {
   "cell_type": "markdown",
   "metadata": {},
   "source": [
    "##### [Roman-To-Integer](https://leetcode.com/problems/roman-to-integer/)\n",
    "\n",
    "Solution:\n"
   ]
  },
  {
   "cell_type": "code",
   "execution_count": 1,
   "metadata": {},
   "outputs": [],
   "source": [
    "def romanToInt(s):\n",
    "  sum = 0\n",
    "  i=0\n",
    "  while i < (len(s)):\n",
    "    if s[i] == \"M\":\n",
    "      sum=sum + 1000\n",
    "    elif s[i] == \"D\":\n",
    "      sum=sum+500\n",
    "    elif s[i] == \"V\":\n",
    "      sum = sum +5  \n",
    "    elif s[i] == 'I':\n",
    "      if i+1 < (len(s)):\n",
    "        if s[i+1] == 'V':\n",
    "          sum = sum + 3\n",
    "          i = i + 1\n",
    "        elif s[i+1] == 'X':\n",
    "            sum = sum + 8\n",
    "            i = i + 1\n",
    "      sum = sum +1\n",
    "    elif s[i] == 'X':\n",
    "      if i+1 < (len(s)):\n",
    "        if s[i+1] == 'L':\n",
    "          sum = sum + 30\n",
    "          i = i + 1\n",
    "        elif s[i+1] == 'C':\n",
    "            sum = sum + 80\n",
    "            i = i + 1\n",
    "      sum = sum +10\n",
    "    elif s[i] == 'L':\n",
    "      sum=sum+50\n",
    "    elif s[i] == 'C':\n",
    "      if i+1 < (len(s)):\n",
    "        if s[i+1] == 'D':\n",
    "          sum = sum + 300\n",
    "          i = i + 1\n",
    "        elif s[i+1] == 'M':\n",
    "          sum = sum + 800\n",
    "          i = i + 1\n",
    "        sum = sum + 100\n",
    "    i = i + 1\n",
    "  return sum \n",
    "\n"
   ]
  },
  {
   "cell_type": "markdown",
   "metadata": {},
   "source": [
    "##### testing:"
   ]
  },
  {
   "cell_type": "code",
   "execution_count": 2,
   "metadata": {},
   "outputs": [],
   "source": [
    "\n",
    "assert  58  ==  romanToInt(\"LVIII\")\n",
    "assert 1994 ==  romanToInt(\"MCMXCIV\")\n",
    "assert 3    ==  romanToInt(\"III\")"
   ]
  },
  {
   "cell_type": "markdown",
   "metadata": {},
   "source": [
    "##### Big(O):"
   ]
  },
  {
   "cell_type": "markdown",
   "metadata": {},
   "source": [
    "\n",
    "* Time : O(n) we have one loop depend on the size of input\n",
    "* space : O(n) we have two virabels depend on the size of input"
   ]
  },
  {
   "cell_type": "markdown",
   "metadata": {},
   "source": [
    "### **Question-02**:\n",
    "--------"
   ]
  },
  {
   "cell_type": "markdown",
   "metadata": {},
   "source": [
    "##### [single-number](https://leetcode.com/problems/single-number/)\n",
    "\n",
    "Solution:\n"
   ]
  },
  {
   "cell_type": "code",
   "execution_count": 18,
   "metadata": {},
   "outputs": [],
   "source": [
    "def singleNumber(nums):\n",
    "  for i in range(len(nums)):\n",
    "    count=0\n",
    "    for j in range(len(nums)):\n",
    "      if nums[i] == nums[j]:\n",
    "        count +=1\n",
    "    if count < 2:\n",
    "      x=nums[i]\n",
    "  return x\n",
    "  # return sum(list(set(nums)) * 2) - sum(nums)\n",
    "        \n"
   ]
  },
  {
   "cell_type": "markdown",
   "metadata": {},
   "source": [
    "##### testing:"
   ]
  },
  {
   "cell_type": "code",
   "execution_count": 19,
   "metadata": {},
   "outputs": [],
   "source": [
    "\n",
    "assert 1 ==  singleNumber([2,2,1])\n",
    "assert 4 ==  singleNumber([4,1,2,1,2])\n",
    "assert 1 ==  singleNumber([1])"
   ]
  },
  {
   "cell_type": "markdown",
   "metadata": {},
   "source": [
    "##### Big(O):"
   ]
  },
  {
   "cell_type": "markdown",
   "metadata": {},
   "source": [
    "* time : O(n^2) we have nested loop each loop depend on the size of input \n",
    "* space : O(n) we have one virabels depend on the size of input"
   ]
  },
  {
   "cell_type": "markdown",
   "metadata": {},
   "source": [
    "### **Question-03**:\n",
    "------"
   ]
  },
  {
   "cell_type": "markdown",
   "metadata": {},
   "source": [
    "##### [Move Zeroes](https://leetcode.com/problems/move-zeroes/)\n",
    "\n",
    "Solution:\n"
   ]
  },
  {
   "cell_type": "code",
   "execution_count": 57,
   "metadata": {},
   "outputs": [],
   "source": [
    "def moveZeroes(nums):\n",
    "    nums.sort(key = lambda x: x == 0)\n",
    "    return nums\n"
   ]
  },
  {
   "cell_type": "markdown",
   "metadata": {},
   "source": [
    "##### testing:"
   ]
  },
  {
   "cell_type": "code",
   "execution_count": 23,
   "metadata": {},
   "outputs": [],
   "source": [
    "assert[1,3,12,0,0]==  moveZeroes([0,1,0,3,12])\n",
    "assert [0] ==  moveZeroes([0])\n",
    "assert [3,2,4,0,0,0] ==  moveZeroes([0,3,0,0,2,4])"
   ]
  },
  {
   "cell_type": "markdown",
   "metadata": {},
   "source": [
    "##### Big(O):"
   ]
  },
  {
   "cell_type": "markdown",
   "metadata": {},
   "source": [
    "* Time : o(n log n) we have a build in method \n",
    "* space : o(1) there is no virabels depend on the size of input"
   ]
  },
  {
   "cell_type": "markdown",
   "metadata": {},
   "source": [
    "### **Question-04**:\n",
    "------"
   ]
  },
  {
   "cell_type": "markdown",
   "metadata": {},
   "source": [
    "##### [longest-common-prefix](https://leetcode.com/problems/longest-common-prefix/)\n",
    "\n",
    "Solution:\n"
   ]
  },
  {
   "cell_type": "code",
   "execution_count": 55,
   "metadata": {},
   "outputs": [],
   "source": [
    "def longestCommonPrefix(strs):\n",
    "  result, break_loop, word = \"\", False, 0\n",
    "  for letter in range(len(strs[0])):\n",
    "      for word in range(len(strs)-1):\n",
    "          try:\n",
    "              if strs[word][letter] != strs[word+1][letter]:\n",
    "                  break_loop = True\n",
    "                  break\n",
    "          except IndexError:\n",
    "              break_loop = True\n",
    "              break\n",
    "      if break_loop:\n",
    "          break\n",
    "      result += strs[word][letter]\n",
    "  return result"
   ]
  },
  {
   "cell_type": "markdown",
   "metadata": {},
   "source": [
    "##### testing:"
   ]
  },
  {
   "cell_type": "code",
   "execution_count": 56,
   "metadata": {},
   "outputs": [],
   "source": [
    "assert\"fl\"==  longestCommonPrefix([\"flower\",\"flow\",\"flight\"])\n",
    "assert  \"\" ==  longestCommonPrefix ([\"dog\",\"racecar\",\"car\"])\n",
    "assert \"tra\" ==  longestCommonPrefix([\"transform\",\"transcribe\",\"train\"])"
   ]
  },
  {
   "cell_type": "markdown",
   "metadata": {},
   "source": [
    "##### Big(O):"
   ]
  },
  {
   "cell_type": "markdown",
   "metadata": {},
   "source": [
    "* time : O(n^2) we have nested loop each loop depend on the size of input\n",
    "* space : O(n) we have one virabels depend on the size of input"
   ]
  }
 ],
 "metadata": {
  "kernelspec": {
   "display_name": "Python 3.9.5 64-bit ('3.9.5')",
   "language": "python",
   "name": "python3"
  },
  "language_info": {
   "codemirror_mode": {
    "name": "ipython",
    "version": 3
   },
   "file_extension": ".py",
   "mimetype": "text/x-python",
   "name": "python",
   "nbconvert_exporter": "python",
   "pygments_lexer": "ipython3",
   "version": "3.9.5"
  },
  "orig_nbformat": 4,
  "vscode": {
   "interpreter": {
    "hash": "0927d43123f74dc63c1f91c4fb11255676675b893abf200286a1d0e5b52aaaf5"
   }
  }
 },
 "nbformat": 4,
 "nbformat_minor": 2
}
